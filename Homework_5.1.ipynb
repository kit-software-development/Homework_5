{
 "cells": [
  {
   "cell_type": "code",
   "execution_count": 44,
   "metadata": {},
   "outputs": [],
   "source": [
    "from ortools.algorithms import pywrapknapsack_solver\n",
    "\n",
    "data=open('19.txt', 'r')\n",
    "data_set=[]\n",
    "for item in data:\n",
    "    data_set.append(item.split())\n",
    "def_weight=float(data_set[0][0])\n",
    "def_volume=float(float(data_set[0][1]))\n",
    "data_set.pop(0)\n",
    "\n",
    "values=[]\n",
    "weights=[]\n",
    "volumes=[]\n",
    "for item in data_set:\n",
    "    values.append(float(item[2]))\n",
    "    weights.append(float(item[0]))\n",
    "    volumes.append(float(float(item[1])))\n",
    "def_weights=[weights, volumes]"
   ]
  },
  {
   "cell_type": "code",
   "execution_count": 52,
   "metadata": {},
   "outputs": [
    {
     "name": "stdout",
     "output_type": "stream",
     "text": [
      "Total value: 5557\n",
      "Total weight: 12998.0\n",
      "Total volume: 17.2\n",
      "Items:\n",
      "138 0.1 537\n",
      "382 0.1 1375\n",
      "136 0.1 255\n",
      "220 0.1 901\n",
      "185 0.1 279\n",
      "289 0.1 1314\n",
      "381 0.1 329\n",
      "314 0.1 604\n",
      "326 0.1 817\n",
      "293 0.1 1041\n",
      "320 0.1 281\n",
      "176 0.1 541\n",
      "328 0.1 797\n",
      "343 0.1 1216\n",
      "294 0.1 525\n",
      "278 0.1 121\n",
      "187 0.1 155\n",
      "339 0.1 779\n",
      "255 0.1 989\n",
      "373 0.1 142\n"
     ]
    }
   ],
   "source": [
    "solver = pywrapknapsack_solver.KnapsackSolver(\n",
    "    pywrapknapsack_solver.KnapsackSolver\n",
    "        .KNAPSACK_MULTIDIMENSION_BRANCH_AND_BOUND_SOLVER,\n",
    "    'Multi-dimensional solver')\n",
    "solver.Init(values, def_weights, [def_weight, def_volume])\n",
    "computed_value = solver.Solve()\n",
    "packed_items = []\n",
    "packed_weights = []\n",
    "total_weight = 0\n",
    "total_volume=0\n",
    "for i in range(len(values)):\n",
    "    if solver.BestSolutionContains(i):\n",
    "        packed_items.append([values[i], def_weights[0][i], def_weights[1][i]/10])\n",
    "        total_weight += def_weights[0][i]\n",
    "        total_volume+=def_weights[1][i]\n",
    "print('Total value: '+str(computed_value))  \n",
    "print('Total weight: '+str(total_weight))\n",
    "print('Total volume: '+str(total_volume))\n",
    "print('Items:')\n",
    "for item in packed_items:\n",
    "    print(str(round(item[0]))+' '+str(round(item[2],1))+' '+str(round(item[1])))"
   ]
  },
  {
   "cell_type": "code",
   "execution_count": null,
   "metadata": {},
   "outputs": [],
   "source": [
    "\n"
   ]
  },
  {
   "cell_type": "code",
   "execution_count": null,
   "metadata": {},
   "outputs": [],
   "source": []
  },
  {
   "cell_type": "code",
   "execution_count": null,
   "metadata": {},
   "outputs": [],
   "source": []
  },
  {
   "cell_type": "code",
   "execution_count": null,
   "metadata": {},
   "outputs": [],
   "source": []
  }
 ],
 "metadata": {
  "kernelspec": {
   "display_name": "Python 3",
   "language": "python",
   "name": "python3"
  },
  "language_info": {
   "codemirror_mode": {
    "name": "ipython",
    "version": 3
   },
   "file_extension": ".py",
   "mimetype": "text/x-python",
   "name": "python",
   "nbconvert_exporter": "python",
   "pygments_lexer": "ipython3",
   "version": "3.7.4"
  }
 },
 "nbformat": 4,
 "nbformat_minor": 2
}
