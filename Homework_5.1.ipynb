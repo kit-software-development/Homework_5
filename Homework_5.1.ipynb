{
 "cells": [
  {
   "cell_type": "code",
   "execution_count": 6,
   "metadata": {},
   "outputs": [],
   "source": [
    "from pyeasyga import pyeasyga"
   ]
  },
  {
   "cell_type": "code",
   "execution_count": 7,
   "metadata": {},
   "outputs": [
    {
     "name": "stdout",
     "output_type": "stream",
     "text": [
      "(13000.0, 12.0)\n"
     ]
    },
    {
     "data": {
      "text/plain": [
       "[{'value': 138, 'volume': 0.9, 'weight': 537},\n",
       " {'value': 274, 'volume': 0.8, 'weight': 1457},\n",
       " {'value': 382, 'volume': 1.1, 'weight': 1375},\n",
       " {'value': 136, 'volume': 0.9, 'weight': 255},\n",
       " {'value': 220, 'volume': 0.9, 'weight': 901},\n",
       " {'value': 185, 'volume': 1.1, 'weight': 279},\n",
       " {'value': 289, 'volume': 0.7, 'weight': 1314},\n",
       " {'value': 381, 'volume': 1.0, 'weight': 329},\n",
       " {'value': 374, 'volume': 1.2, 'weight': 1447},\n",
       " {'value': 314, 'volume': 0.8, 'weight': 604},\n",
       " {'value': 326, 'volume': 0.7, 'weight': 817},\n",
       " {'value': 293, 'volume': 1.2, 'weight': 1041},\n",
       " {'value': 320, 'volume': 1.0, 'weight': 281},\n",
       " {'value': 234, 'volume': 0.5, 'weight': 1164},\n",
       " {'value': 176, 'volume': 0.6, 'weight': 541},\n",
       " {'value': 322, 'volume': 0.6, 'weight': 1465},\n",
       " {'value': 108, 'volume': 0.6, 'weight': 890},\n",
       " {'value': 328, 'volume': 0.5, 'weight': 797},\n",
       " {'value': 343, 'volume': 0.9, 'weight': 1216},\n",
       " {'value': 377, 'volume': 1.0, 'weight': 1645},\n",
       " {'value': 294, 'volume': 1.0, 'weight': 525},\n",
       " {'value': 274, 'volume': 0.4, 'weight': 1482},\n",
       " {'value': 278, 'volume': 0.6, 'weight': 121},\n",
       " {'value': 271, 'volume': 1.0, 'weight': 1194},\n",
       " {'value': 271, 'volume': 1.1, 'weight': 1630},\n",
       " {'value': 187, 'volume': 1.0, 'weight': 155},\n",
       " {'value': 339, 'volume': 1.1, 'weight': 779},\n",
       " {'value': 204, 'volume': 0.7, 'weight': 1702},\n",
       " {'value': 255, 'volume': 0.6, 'weight': 989},\n",
       " {'value': 373, 'volume': 0.6, 'weight': 142}]"
      ]
     },
     "execution_count": 7,
     "metadata": {},
     "output_type": "execute_result"
    }
   ],
   "source": [
    "FNAME = \"19.txt\"\n",
    "\n",
    "with open(FNAME) as f:\n",
    "    content = f.readlines()\n",
    "    \n",
    "content = [x.strip() for x in content]\n",
    "capacities = [float(n) for n in content.pop(0).split()]\n",
    "print( capacities[0],  capacities[1])\n",
    "\n",
    "data = []\n",
    "for x in content:\n",
    "    data.append([float(n) for n in x.split()])\n",
    "knapsack_data = []\n",
    "for individ in data:\n",
    "    knapsack_data.append({'weight': int(individ[0]), 'volume': float(individ[1]), 'value': int(individ[2])})\n",
    "knapsack_data"
   ]
  },
  {
   "cell_type": "code",
   "execution_count": 4,
   "metadata": {},
   "outputs": [],
   "source": [
    "def fitness(individual, data):\n",
    "    value, weight, volume = 0, 0, 0\n",
    "    for selected, box in zip(individual, data):\n",
    "        if selected:\n",
    "            volume += box.get('volume')\n",
    "            weight += box.get('weight')\n",
    "            value += box.get('value')\n",
    "    if weight > capacities[0] or volume > capacities[1]:\n",
    "        value = 0\n",
    "    return value\n",
    "\n",
    "ga = pyeasyga.GeneticAlgorithm(knapsack_data)\n",
    "ga.population_size = 200\n",
    "\n",
    "ga.fitness_function = fitness\n",
    "ga.run()\n",
    "\n",
    "res = ga.best_individual()"
   ]
  },
  {
   "cell_type": "code",
   "execution_count": 5,
   "metadata": {},
   "outputs": [
    {
     "name": "stdout",
     "output_type": "stream",
     "text": [
      "Total value: 4818\n",
      "Total weight: 12236\n",
      "Total volume: 11.6\n",
      "\n",
      "{'volume': 1.1, 'value': 382, 'weight': 1375}\n",
      "{'volume': 0.7, 'value': 289, 'weight': 1314}\n",
      "{'volume': 1.0, 'value': 381, 'weight': 329}\n",
      "{'volume': 0.8, 'value': 314, 'weight': 604}\n",
      "{'volume': 0.7, 'value': 326, 'weight': 817}\n",
      "{'volume': 1.0, 'value': 320, 'weight': 281}\n",
      "{'volume': 0.6, 'value': 322, 'weight': 1465}\n",
      "{'volume': 0.5, 'value': 328, 'weight': 797}\n",
      "{'volume': 0.9, 'value': 343, 'weight': 1216}\n",
      "{'volume': 1.0, 'value': 294, 'weight': 525}\n",
      "{'volume': 0.4, 'value': 274, 'weight': 1482}\n",
      "{'volume': 0.6, 'value': 278, 'weight': 121}\n",
      "{'volume': 1.1, 'value': 339, 'weight': 779}\n",
      "{'volume': 0.6, 'value': 255, 'weight': 989}\n",
      "{'volume': 0.6, 'value': 373, 'weight': 142}\n"
     ]
    }
   ],
   "source": [
    "selected = []\n",
    "for index, g in enumerate(res[1]):\n",
    "    if g == 1:\n",
    "        selected.append(knapsack_data[index])\n",
    "        \n",
    "total_value = sum([item['value'] for item in selected])\n",
    "total_weight = sum([item['weight'] for item in selected])\n",
    "total_volume = sum([item['volume'] for item in selected])\n",
    "\n",
    "print(\"Total value: \" + str(total_value))\n",
    "print(\"Total weight: \" + str(total_weight))\n",
    "print(\"Total volume: \" + str(total_volume))\n",
    "print\n",
    "\n",
    "for i in selected:\n",
    "    print(i)"
   ]
  },
  {
   "cell_type": "code",
   "execution_count": null,
   "metadata": {},
   "outputs": [],
   "source": []
  },
  {
   "cell_type": "code",
   "execution_count": null,
   "metadata": {},
   "outputs": [],
   "source": []
  },
  {
   "cell_type": "code",
   "execution_count": null,
   "metadata": {},
   "outputs": [],
   "source": []
  }
 ],
 "metadata": {
  "kernelspec": {
   "display_name": "Python 2",
   "language": "python",
   "name": "python2"
  },
  "language_info": {
   "codemirror_mode": {
    "name": "ipython",
    "version": 2
   },
   "file_extension": ".py",
   "mimetype": "text/x-python",
   "name": "python",
   "nbconvert_exporter": "python",
   "pygments_lexer": "ipython2",
   "version": "2.7.17"
  }
 },
 "nbformat": 4,
 "nbformat_minor": 2
}
