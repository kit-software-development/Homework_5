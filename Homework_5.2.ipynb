{
 "cells": [
  {
   "cell_type": "code",
   "execution_count": 39,
   "metadata": {},
   "outputs": [],
   "source": [
    "import numpy\n",
    "import random\n",
    "import math\n",
    "\n",
    "data=[]\n",
    "weights=[]\n",
    "volumes=[]\n",
    "values=[]\n",
    "population = []\n",
    "indNum=200\n",
    "\n",
    "file = open('19.txt')\n",
    "for item in file:\n",
    "    data.append(item.split())\n",
    "maxVolume = float(data[0][1])\n",
    "maxWeight = float(data[0][0])\n",
    "data.pop(0)\n",
    "for item in data:\n",
    "    weights.append(float(item[0]))\n",
    "    volumes.append(float(item[1]))\n",
    "    values.append(float(item[2]))"
   ]
  },
  {
   "cell_type": "code",
   "execution_count": 40,
   "metadata": {},
   "outputs": [],
   "source": [
    "for i in range(indNum):\n",
    "    individual=''\n",
    "    for j in range(len(data)):\n",
    "        individual+=str(random.randrange(2))\n",
    "    population.append(individual)"
   ]
  },
  {
   "cell_type": "code",
   "execution_count": 41,
   "metadata": {},
   "outputs": [],
   "source": [
    "def fitness(individual):\n",
    "    weight = 0.0\n",
    "    volume = 0.0\n",
    "    value = 0.0\n",
    "    for i in range(len(individual)):\n",
    "        weight += int(individual[i])*weights[i]\n",
    "        volume += int(individual[i])*volumes[i]\n",
    "        value += int(individual[i])*values[i]\n",
    "    if volume > maxVolume or weight > maxWeight:\n",
    "        return maxWeight, maxVolume,  0           \n",
    "    return weight, volume, value\n"
   ]
  },
  {
   "cell_type": "code",
   "execution_count": 42,
   "metadata": {},
   "outputs": [],
   "source": [
    "def selection(population):\n",
    "    sortedPop = sorted(population, key = lambda i: fitness(i)[2], reverse=True)\n",
    "    indForCross=[]\n",
    "    for i in range(math.floor(len(sortedPop)*0.2)):\n",
    "        indForCross.append(sortedPop[i])\n",
    "    return indForCross\n"
   ]
  },
  {
   "cell_type": "code",
   "execution_count": 50,
   "metadata": {},
   "outputs": [],
   "source": [
    "def crossingover(indForCross):\n",
    "    children=[]\n",
    "    for i in range(len(indForCross)):\n",
    "        item1=''\n",
    "        item2=''\n",
    "        if i<len(indForCross)-i-1:\n",
    "            for j in range(len(data)):\n",
    "                if indForCross[i][j] == indForCross[len(indForCross)-i-1][j]:\n",
    "                    bit=indForCross[i][j]\n",
    "                    item1+=bit\n",
    "                    item2+=bit\n",
    "                else:\n",
    "                    bit=random.randrange(2)\n",
    "                    item1+=str(bit)\n",
    "                    bit=random.randrange(2)\n",
    "                    item2+=str(bit)\n",
    "            children.append(item1)\n",
    "            children.append(item2)\n",
    "    return children\n"
   ]
  },
  {
   "cell_type": "code",
   "execution_count": 51,
   "metadata": {},
   "outputs": [],
   "source": [
    "def mutation(children):\n",
    "    index=random.randrange(len(children))\n",
    "    mutChild=''\n",
    "    for i in range(len(children[index])):\n",
    "        mutChild+=str(1-int(children[index][i]))\n",
    "    children[index]=mutChild\n",
    "    return children\n"
   ]
  },
  {
   "cell_type": "code",
   "execution_count": 52,
   "metadata": {},
   "outputs": [],
   "source": [
    "def createNewPopulation(population, children):\n",
    "    indFit={}\n",
    "    for individ in population:\n",
    "        indFit[individ]=math.floor(fitness(individ)[2])\n",
    "    indSorted= sorted(indFit.items(), key=lambda item: item[1])\n",
    "    newPopulation=population\n",
    "    for child in children:\n",
    "        newPopulation.append(child)\n",
    "    removedItems=0\n",
    "    for ind in indSorted:\n",
    "        if len(newPopulation)>200 and removedItems<indNum*0.3:\n",
    "            newPopulation.remove(ind[0])\n",
    "            removedItems+=1\n",
    "        else: return newPopulation\n",
    "    return newPopulation"
   ]
  },
  {
   "cell_type": "code",
   "execution_count": 53,
   "metadata": {},
   "outputs": [],
   "source": [
    "def solver(population):\n",
    "    lastIterRes=0\n",
    "    for i in range(500):\n",
    "        selectedInd=selection(population)\n",
    "        children=crossingover(selectedInd)\n",
    "        mutChildren=mutation(children)\n",
    "        population=createNewPopulation(population,mutChildren)\n",
    "        bestIndivid=sorted(population, key=  lambda i: fitness(i)[2], reverse=True)[0]\n",
    "        bestIndividFit=fitness(bestIndivid)[2]\n",
    "        if abs(bestIndividFit-lastIterRes)<math.floor(bestIndividFit*0.1):\n",
    "            return bestIndivid\n",
    "        if i>0 and i%15==0:\n",
    "            lastIterRes=bestIndividFit\n",
    "    return bestIndivid"
   ]
  },
  {
   "cell_type": "code",
   "execution_count": 54,
   "metadata": {},
   "outputs": [
    {
     "name": "stdout",
     "output_type": "stream",
     "text": [
      "packed items\n",
      "1 ['1457', '0.8', '274']\n",
      "2 ['1375', '1.1', '382']\n",
      "6 ['1314', '0.7', '289']\n",
      "7 ['329', '1.0', '381']\n",
      "9 ['604', '0.8', '314']\n",
      "10 ['817', '0.7', '326']\n",
      "12 ['281', '1.0', '320']\n",
      "15 ['1465', '0.6', '322']\n",
      "17 ['797', '0.5', '328']\n",
      "18 ['1216', '0.9', '343']\n",
      "20 ['525', '1.0', '294']\n",
      "22 ['121', '0.6', '278']\n",
      "26 ['779', '1.1', '339']\n",
      "28 ['989', '0.6', '255']\n",
      "29 ['142', '0.6', '373']\n",
      "total weight, volume, value\n",
      "(12211.0, 11.999999999999998, 4818.0)\n"
     ]
    }
   ],
   "source": [
    "best=solver(population)\n",
    "print(\"packed items\")\n",
    "for i in range(len(best)):\n",
    "    if(best[i]=='1'):\n",
    "        print(i, data[i])\n",
    "print(\"total weight, volume, value\")\n",
    "print(fitness(best))\n"
   ]
  },
  {
   "cell_type": "code",
   "execution_count": null,
   "metadata": {},
   "outputs": [],
   "source": []
  },
  {
   "cell_type": "code",
   "execution_count": null,
   "metadata": {},
   "outputs": [],
   "source": []
  },
  {
   "cell_type": "code",
   "execution_count": null,
   "metadata": {},
   "outputs": [],
   "source": []
  },
  {
   "cell_type": "code",
   "execution_count": null,
   "metadata": {},
   "outputs": [],
   "source": []
  }
 ],
 "metadata": {
  "kernelspec": {
   "display_name": "Python 3",
   "language": "python",
   "name": "python3"
  },
  "language_info": {
   "codemirror_mode": {
    "name": "ipython",
    "version": 3
   },
   "file_extension": ".py",
   "mimetype": "text/x-python",
   "name": "python",
   "nbconvert_exporter": "python",
   "pygments_lexer": "ipython3",
   "version": "3.7.4"
  }
 },
 "nbformat": 4,
 "nbformat_minor": 2
}
